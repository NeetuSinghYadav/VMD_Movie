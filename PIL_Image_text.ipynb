{
 "cells": [
  {
   "cell_type": "code",
   "execution_count": 1,
   "id": "a2acf2de",
   "metadata": {},
   "outputs": [],
   "source": [
    "from PIL import Image \n",
    "from PIL import ImageFont \n",
    "from PIL import ImageDraw \n",
    "import PIL\n",
    "import math \n",
    "import numpy as np \n",
    "import glob, os "
   ]
  },
  {
   "cell_type": "code",
   "execution_count": 2,
   "id": "093305b3",
   "metadata": {},
   "outputs": [
    {
     "name": "stdout",
     "output_type": "stream",
     "text": [
      "/Users/neetu/Desktop/Neetu-2023/VMD\n"
     ]
    }
   ],
   "source": [
    "pwd=os.getcwd() \n",
    "print (pwd) \n",
    "path_of_the_directory= str(pwd) "
   ]
  },
  {
   "cell_type": "code",
   "execution_count": 4,
   "id": "0cb179a0",
   "metadata": {},
   "outputs": [
    {
     "data": {
      "text/plain": [
       "'\\nimages = []\\nfor f in os.listdir(path_of_the_directory):\\n    if f.endswith(ext):\\n        images.append(f)\\nsorted_images  = sorted(images)\\n#lsorted = sorted(images, key=lambda x:int(os.path.splitext(x)[1]))\\n'"
      ]
     },
     "execution_count": 4,
     "metadata": {},
     "output_type": "execute_result"
    }
   ],
   "source": [
    "fixedpoint = (183,13)  \n",
    "point = \".\" \n",
    "nstext = \"ns\" \n",
    "pwd=os.getcwd()\n",
    "#print (pwd)\n",
    "path_of_the_directory= str(pwd)\n",
    "ext=('.jpg')\n",
    "\n",
    "images = sorted(glob.glob(\"ALK1_*.jpg\")) \n",
    "from natsort import natsorted \n",
    "natsort_file_names = natsorted(images)\n",
    "#print(natsort_file_names)\n",
    "\n",
    "'''\n",
    "images = []\n",
    "for f in os.listdir(path_of_the_directory):\n",
    "    if f.endswith(ext):\n",
    "        images.append(f)\n",
    "sorted_images  = sorted(images)\n",
    "#lsorted = sorted(images, key=lambda x:int(os.path.splitext(x)[1]))\n",
    "'''"
   ]
  },
  {
   "cell_type": "code",
   "execution_count": 4,
   "id": "cf46d56c",
   "metadata": {},
   "outputs": [],
   "source": [
    "path_of_the_directory= str(pwd)\n",
    "ext=('.jpg')\n",
    "for f in os.listdir(path_of_the_directory):\n",
    "    if f.endswith(ext):\n",
    "        #print(f)  \n",
    "        inp=str(f)\n",
    "        basename=inp.split('_')\n",
    "        prefix=basename[1].split('.')\n",
    "        output=str(basename[0])+\"_\"+prefix[0]+\"_text.png\"\n",
    "        \n",
    "        #print (inp, output, prefix[0])\n",
    "        \n",
    "        \n",
    "        img=PIL.Image.open(inp)\n",
    "        I1 =PIL.ImageDraw.Draw(img)\n",
    "        myFont=PIL.ImageFont.truetype(\"acme/Acme-Regular.ttf\", 65)\n",
    "        I1.text((50,50), str(prefix[0])+\" ns\", align='center',font=myFont, fill=(255,0,0))\n",
    "        #img.show()\n",
    "        #img.save(output)\n",
    "    else:\n",
    "        continue"
   ]
  },
  {
   "cell_type": "code",
   "execution_count": 6,
   "id": "e4bff1ad",
   "metadata": {},
   "outputs": [],
   "source": [
    "images = sorted(glob.glob(\"*png\"))\n",
    "for i, ns in enumerate(np.linspace(0,80,len(images), dtype=int)): \n",
    "    #print (ns) \n",
    "    img=PIL.Image.open(images[i])\n",
    "    I1 =PIL.ImageDraw.Draw(img)\n",
    "    myFont=PIL.ImageFont.truetype(\"acme/Acme-Regular.ttf\", 65)\n",
    "    I1.text((50,50), str(i)+\" ns\", align='center',font=myFont, fill=(255,0,0))\n",
    "        #img.show()\n",
    "    img.save(\"images%04d.png\" % i)"
   ]
  },
  {
   "cell_type": "code",
   "execution_count": 6,
   "id": "a4b78f3c",
   "metadata": {},
   "outputs": [
    {
     "name": "stderr",
     "output_type": "stream",
     "text": [
      "ffmpeg version 6.0 Copyright (c) 2000-2023 the FFmpeg developers\n",
      "  built with Apple clang version 14.0.3 (clang-1403.0.22.14.1)\n",
      "  configuration: --prefix=/opt/homebrew/Cellar/ffmpeg/6.0 --enable-shared --enable-pthreads --enable-version3 --cc=clang --host-cflags= --host-ldflags= --enable-ffplay --enable-gnutls --enable-gpl --enable-libaom --enable-libaribb24 --enable-libbluray --enable-libdav1d --enable-libmp3lame --enable-libopus --enable-librav1e --enable-librist --enable-librubberband --enable-libsnappy --enable-libsrt --enable-libsvtav1 --enable-libtesseract --enable-libtheora --enable-libvidstab --enable-libvmaf --enable-libvorbis --enable-libvpx --enable-libwebp --enable-libx264 --enable-libx265 --enable-libxml2 --enable-libxvid --enable-lzma --enable-libfontconfig --enable-libfreetype --enable-frei0r --enable-libass --enable-libopencore-amrnb --enable-libopencore-amrwb --enable-libopenjpeg --enable-libspeex --enable-libsoxr --enable-libzmq --enable-libzimg --disable-libjack --disable-indev=jack --enable-videotoolbox --enable-neon\n",
      "  libavutil      58.  2.100 / 58.  2.100\n",
      "  libavcodec     60.  3.100 / 60.  3.100\n",
      "  libavformat    60.  3.100 / 60.  3.100\n",
      "  libavdevice    60.  1.100 / 60.  1.100\n",
      "  libavfilter     9.  3.100 /  9.  3.100\n",
      "  libswscale      7.  1.100 /  7.  1.100\n",
      "  libswresample   4. 10.100 /  4. 10.100\n",
      "  libpostproc    57.  1.100 / 57.  1.100\n",
      "Input #0, image2, from 'images%04d.png':\n",
      "  Duration: 00:00:16.20, start: 0.000000, bitrate: N/A\n",
      "  Stream #0:0: Video: png, rgb24(pc), 1024x1024, 5 fps, 5 tbr, 5 tbn\n",
      "Stream mapping:\n",
      "  Stream #0:0 -> #0:0 (png (native) -> h264 (libx264))\n",
      "Press [q] to stop, [?] for help\n",
      "[libx264 @ 0x135f062a0] using cpu capabilities: ARMv8 NEON\n",
      "[libx264 @ 0x135f062a0] profile High, level 3.2, 4:2:0, 8-bit\n",
      "[libx264 @ 0x135f062a0] 264 - core 164 r3095 baee400 - H.264/MPEG-4 AVC codec - Copyleft 2003-2022 - http://www.videolan.org/x264.html - options: cabac=1 ref=3 deblock=1:0:0 analyse=0x3:0x113 me=hex subme=7 psy=1 psy_rd=1.00:0.00 mixed_ref=1 me_range=16 chroma_me=1 trellis=1 8x8dct=1 cqm=0 deadzone=21,11 fast_pskip=1 chroma_qp_offset=-2 threads=15 lookahead_threads=2 sliced_threads=0 nr=0 decimate=1 interlaced=0 bluray_compat=0 constrained_intra=0 bframes=3 b_pyramid=2 b_adapt=1 b_bias=0 direct=1 weightb=1 open_gop=0 weightp=2 keyint=250 keyint_min=5 scenecut=40 intra_refresh=0 rc_lookahead=40 rc=crf mbtree=1 crf=10.0 qcomp=0.60 qpmin=0 qpmax=69 qpstep=4 ip_ratio=1.40 aq=1:1.00\n",
      "Output #0, mp4, to 'ALK1_20_CG.mp4':\n",
      "  Metadata:\n",
      "    encoder         : Lavf60.3.100\n",
      "  Stream #0:0: Video: h264 (avc1 / 0x31637661), yuv420p(tv, progressive), 1024x1024, q=2-31, 5 fps, 10240 tbn\n",
      "    Metadata:\n",
      "      encoder         : Lavc60.3.100 libx264\n",
      "    Side data:\n",
      "      cpb: bitrate max/min/avg: 0/0/0 buffer size: 0 vbv_delay: N/A\n",
      "frame=   81 fps=0.0 q=-1.0 Lsize=    7327kB time=00:00:15.60 bitrate=3847.8kbits/s speed=26.3x     \n",
      "video:7325kB audio:0kB subtitle:0kB other streams:0kB global headers:0kB muxing overhead: 0.024623%\n",
      "[libx264 @ 0x135f062a0] frame I:5     Avg QP: 2.16  size:122973\n",
      "[libx264 @ 0x135f062a0] frame P:36    Avg QP: 8.09  size: 91039\n",
      "[libx264 @ 0x135f062a0] frame B:40    Avg QP:10.05  size: 90208\n",
      "[libx264 @ 0x135f062a0] consecutive B-frames: 25.9% 24.7%  0.0% 49.4%\n",
      "[libx264 @ 0x135f062a0] mb I  I16..4: 81.7%  1.4% 17.0%\n",
      "[libx264 @ 0x135f062a0] mb P  I16..4:  4.6%  1.7%  9.9%  P16..4:  2.0%  1.6%  2.6%  0.0%  0.0%    skip:77.7%\n",
      "[libx264 @ 0x135f062a0] mb B  I16..4:  0.6%  0.5%  9.7%  B16..8:  4.7%  1.6%  3.1%  direct: 0.8%  skip:79.1%  L0:50.4% L1:40.1% BI: 9.5%\n",
      "[libx264 @ 0x135f062a0] 8x8 transform intra:5.7% inter:9.1%\n",
      "[libx264 @ 0x135f062a0] coded y,uvDC,uvAC intra: 53.8% 61.3% 61.1% inter: 4.7% 6.3% 6.3%\n",
      "[libx264 @ 0x135f062a0] i16 v,h,dc,p: 93%  5%  2%  0%\n",
      "[libx264 @ 0x135f062a0] i8 v,h,dc,ddl,ddr,vr,hd,vl,hu: 15% 20% 29%  3%  7%  5%  8%  4%  8%\n",
      "[libx264 @ 0x135f062a0] i4 v,h,dc,ddl,ddr,vr,hd,vl,hu: 17% 21% 12%  5%  9%  9% 10%  6% 10%\n",
      "[libx264 @ 0x135f062a0] i8c dc,h,v,p: 59% 19% 15%  7%\n",
      "[libx264 @ 0x135f062a0] Weighted P-Frames: Y:0.0% UV:0.0%\n",
      "[libx264 @ 0x135f062a0] ref P L0: 38.5% 11.9% 27.9% 21.7%\n",
      "[libx264 @ 0x135f062a0] ref B L0: 70.3% 25.7%  4.0%\n",
      "[libx264 @ 0x135f062a0] ref B L1: 88.2% 11.8%\n",
      "[libx264 @ 0x135f062a0] kb/s:3703.99\n"
     ]
    },
    {
     "data": {
      "text/plain": [
       "0"
      ]
     },
     "execution_count": 6,
     "metadata": {},
     "output_type": "execute_result"
    }
   ],
   "source": [
    "command1 = 'rm *mp4'\n",
    "command2='ffmpeg -r 5 -f image2 -framerate 5 -s 1920x1080  -i images%04d.png -vcodec libx264 -crf 10  -pix_fmt yuv420p ALK1_20_CG.mp4'\n",
    "#command3= 'rm *text.png'\n",
    "\n",
    "os.system(command1)\n",
    "os.system(command2)\n",
    "#os.system(command3)"
   ]
  },
  {
   "cell_type": "code",
   "execution_count": null,
   "id": "57c92ca1",
   "metadata": {},
   "outputs": [],
   "source": []
  }
 ],
 "metadata": {
  "kernelspec": {
   "display_name": "Python 3 (ipykernel)",
   "language": "python",
   "name": "python3"
  },
  "language_info": {
   "codemirror_mode": {
    "name": "ipython",
    "version": 3
   },
   "file_extension": ".py",
   "mimetype": "text/x-python",
   "name": "python",
   "nbconvert_exporter": "python",
   "pygments_lexer": "ipython3",
   "version": "3.9.13"
  }
 },
 "nbformat": 4,
 "nbformat_minor": 5
}
